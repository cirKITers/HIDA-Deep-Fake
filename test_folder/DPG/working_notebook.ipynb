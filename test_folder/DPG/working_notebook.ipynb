{
 "cells": [
  {
   "cell_type": "code",
   "execution_count": null,
   "metadata": {},
   "outputs": [],
   "source": [
    "pip install requests beautifulsoup4"
   ]
  },
  {
   "cell_type": "code",
   "execution_count": 12,
   "metadata": {},
   "outputs": [],
   "source": [
    "import requests\n",
    "from bs4 import BeautifulSoup"
   ]
  },
  {
   "cell_type": "code",
   "execution_count": 9,
   "metadata": {},
   "outputs": [],
   "source": [
    "url = 'https://www.dpg-verhandlungen.de/year/2024/conference/berlin/part/dy'\n",
    "response = requests.get(url)\n",
    "soup = BeautifulSoup(response.text, 'html.parser')\n",
    "paragraphs = soup.find_all()\n",
    "with open('webpage_content.txt', 'w', encoding='utf-8') as file:\n",
    "    for paragraph in paragraphs:\n",
    "        file.write(paragraph.text + '\\n')"
   ]
  },
  {
   "cell_type": "markdown",
   "metadata": {},
   "source": [
    "scrape for the urls:"
   ]
  },
  {
   "cell_type": "code",
   "execution_count": 34,
   "metadata": {},
   "outputs": [],
   "source": [
    "main_url = 'https://www.dpg-verhandlungen.de/year/2024/conference/berlin/part/dy'\n",
    "response = requests.get(main_url)\n",
    "\n",
    "# Parse the HTML content and Find all <a> tags\n",
    "soup = BeautifulSoup(response.text, 'html.parser')\n",
    "links = soup.find_all('a')\n",
    "\n",
    "# Extract the href attribute from each <a> tag and filter only relevant ones \n",
    "nested_urls = [link.get('href') for link in links if link.get('href')]\n",
    "filtered_urls = [url for url in nested_urls if url.startswith(main_url + \"/\")]\n",
    "\n",
    "nested_nested_urls = []\n",
    "for secondary_url in filtered_urls:\n",
    "    response = requests.get(secondary_url)\n",
    "    soup = BeautifulSoup(response.text, 'html.parser')\n",
    "    links = soup.find_all('a')\n",
    "\n",
    "    temp = [link.get('href') for link in links if link.get('href')]\n",
    "    nested_nested_urls += temp\n",
    "\n"
   ]
  },
  {
   "cell_type": "code",
   "execution_count": 62,
   "metadata": {},
   "outputs": [],
   "source": [
    "# filter all the nested_nested_urls:\n",
    "filtered_urls = [url for url in nested_nested_urls if url.startswith(main_url + \"/\")]\n",
    "\n",
    "filtered_urls2 = [filtered_urls[0]]\n",
    "\n",
    "for i in range(1, len(filtered_urls)):\n",
    "    # Compare each element with the previous one\n",
    "    if filtered_urls[i] != filtered_urls[i-1]:\n",
    "        # Add it to the filtered list if it's different\n",
    "        filtered_urls2.append(filtered_urls[i])\n"
   ]
  },
  {
   "cell_type": "markdown",
   "metadata": {},
   "source": [
    "for all the content:"
   ]
  },
  {
   "cell_type": "code",
   "execution_count": 59,
   "metadata": {},
   "outputs": [],
   "source": [
    "url = 'https://www.dpg-verhandlungen.de/year/2024/conference/berlin/part/dy/session/60/contribution/4'\n",
    "response = requests.get(url)\n",
    "soup = BeautifulSoup(response.text, 'html.parser')\n",
    "paragraphs = soup.find_all('p')\n",
    "\n",
    "with open('webpage_content.txt', 'w', encoding='utf-8') as file:\n",
    "    for paragraph in paragraphs:\n",
    "        file.write(paragraph.text + '\\n')\n",
    "\n",
    "        \n"
   ]
  },
  {
   "cell_type": "markdown",
   "metadata": {},
   "source": [
    "scaling the above to all"
   ]
  },
  {
   "cell_type": "code",
   "execution_count": 68,
   "metadata": {},
   "outputs": [],
   "source": [
    "i=1\n",
    "\n",
    "with open('all_text2.txt', 'w') as file:\n",
    "    pass  # This clears the file\n",
    "\n",
    "def append_to_file(content, filename='all_text2.txt'):\n",
    "    with open(filename, 'a', encoding='utf-8') as file:\n",
    "        file.write(content + '\\n')\n",
    "\n",
    "for url in filtered_urls2:\n",
    "    response = requests.get(url)\n",
    "    soup = BeautifulSoup(response.text, 'html.parser')\n",
    "    paragraphs = soup.find_all('p')\n",
    "\n",
    "    append_to_file(\"abstract \" + str(i))  \n",
    "    for paragraph in paragraphs:\n",
    "        append_to_file(paragraph.text)\n",
    "    i+=1 "
   ]
  },
  {
   "cell_type": "code",
   "execution_count": 70,
   "metadata": {},
   "outputs": [],
   "source": [
    "# cleaning:\n",
    "\n",
    "unwanted_phrases = [\n",
    "    \"Auswahlstatus für diesen Beitrag: \",\n",
    "    \"Titel und präsentierender Autor\",\n",
    "    \"Titel und Autorenblock\",\n",
    "    \"Titel, Autorenblock und Kurzfassung\",\n",
    "    \"gemäß den Sitzungseinstellungen\"\n",
    "]\n",
    "\n",
    "def clean_file(input_filename, output_filename):\n",
    "    with open(input_filename, 'r', encoding='utf-8') as infile, \\\n",
    "         open(output_filename, 'w', encoding='utf-8') as outfile:\n",
    "        for line in infile:\n",
    "            # Check if the line contains any of the unwanted phrases\n",
    "            if not any(unwanted_phrase in line for unwanted_phrase in unwanted_phrases):\n",
    "                outfile.write(line)\n",
    "\n",
    "# Replace 'your_input_file.txt' with the path to your input file\n",
    "# and 'cleaned_file.txt' with the desired output file path\n",
    "clean_file('all_text2.txt', 'cleaned_file.txt')"
   ]
  },
  {
   "cell_type": "markdown",
   "metadata": {},
   "source": [
    "Make pretier:"
   ]
  },
  {
   "cell_type": "markdown",
   "metadata": {},
   "source": [
    "worked option\n"
   ]
  },
  {
   "cell_type": "code",
   "execution_count": 7,
   "metadata": {},
   "outputs": [
    {
     "name": "stdout",
     "output_type": "stream",
     "text": [
      "Formatting complete.\n"
     ]
    }
   ],
   "source": [
    "def format_abstracts(input_file, output_file):\n",
    "    # Initialize variables\n",
    "    current_title, current_authors, current_affiliations, current_abstract = \"\", \"\", \"\", \"\"\n",
    "    processing_abstract = False\n",
    "\n",
    "    # Read the input file\n",
    "    with open(input_file, 'r', encoding='utf-8') as infile:\n",
    "        lines = infile.readlines()\n",
    "\n",
    "    # Prepare to write to the output file\n",
    "    with open(output_file, 'w', encoding='utf-8') as outfile:\n",
    "        for line in lines:\n",
    "            if line.strip().startswith('abstract'):\n",
    "                if processing_abstract:  # If already processing an abstract, write it to the file\n",
    "                    outfile.write(f\"Title: {current_title}\\n\")\n",
    "                    outfile.write(f\"Authors: {current_authors}\\n\")\n",
    "                    outfile.write(f\"Affiliations: {current_affiliations}\\n\")\n",
    "                    outfile.write(\"Abstract:\\n\")\n",
    "                    outfile.write(current_abstract.strip() + \"\\n\\n\")\n",
    "                # Reset for the next abstract\n",
    "                current_abstract = \"\"\n",
    "                processing_abstract = False\n",
    "            elif not processing_abstract and line.strip():\n",
    "                # Process the title, authors, and affiliations line\n",
    "                parts = line.strip().split(' — ')\n",
    "                if len(parts) >= 3:\n",
    "                    current_title = parts[0]\n",
    "                    current_authors = parts[1]\n",
    "                    current_affiliations = ' — '.join(parts[2:])\n",
    "                    processing_abstract = True\n",
    "            elif processing_abstract:\n",
    "                # Accumulate the abstract text\n",
    "                current_abstract += line\n",
    "\n",
    "        # Write the last abstract, if any\n",
    "        if processing_abstract:\n",
    "            outfile.write(f\"Title: {current_title}\\n\")\n",
    "            outfile.write(f\"Authors: {current_authors}\\n\")\n",
    "            outfile.write(f\"Affiliations: {current_affiliations}\\n\")\n",
    "            outfile.write(\"Abstract:\\n\")\n",
    "            outfile.write(current_abstract.strip() + \"\\n\")\n",
    "\n",
    "# Specify your input and output files\n",
    "input_file_path = 'cleaned_file.txt'\n",
    "output_file_path = 'pretty.txt'\n",
    "\n",
    "# Call the function\n",
    "format_abstracts(input_file_path, output_file_path)\n",
    "\n",
    "print('Formatting complete.')"
   ]
  },
  {
   "cell_type": "markdown",
   "metadata": {},
   "source": [
    "making abstract in one line"
   ]
  },
  {
   "cell_type": "code",
   "execution_count": 19,
   "metadata": {},
   "outputs": [
    {
     "name": "stdout",
     "output_type": "stream",
     "text": [
      "Processing complete! Check output.txt for the results.\n"
     ]
    }
   ],
   "source": [
    "def process_content_from_file(input_file_path, output_file_path):\n",
    "    # Read the content from the input file\n",
    "    with open(input_file_path, 'r', encoding='utf-8') as file:\n",
    "        lines = file.read().strip().split('\\n')\n",
    "\n",
    "    output_lines = []\n",
    "    is_abstract = False\n",
    "    abstract_text = \"\"\n",
    "\n",
    "    for line in lines:\n",
    "        if line.startswith('Title:'):\n",
    "            if abstract_text:  # If there's an abstract from the previous block, add it before starting a new title\n",
    "                output_lines.append('Abstract:' + abstract_text.strip() + '\\n')\n",
    "                abstract_text = \"\"  # Reset abstract text for the next block\n",
    "            is_abstract = False\n",
    "            output_lines.append(line)\n",
    "        elif line.startswith('Authors:') or line.startswith('Affiliations:'):\n",
    "            is_abstract = False\n",
    "            output_lines.append(line)\n",
    "        elif line.startswith('Abstract:'):\n",
    "            is_abstract = True\n",
    "            if abstract_text:  # In case of consecutive abstract lines without a title in between\n",
    "                output_lines.append('Abstract:' + abstract_text.strip() + '\\n')\n",
    "                abstract_text = \"\"\n",
    "            abstract_text += line.replace('Abstract:', '').strip() + \" \"\n",
    "        else:\n",
    "            if is_abstract:\n",
    "                abstract_text += line.strip() + \" \"\n",
    "            else:\n",
    "                output_lines.append(line)\n",
    "\n",
    "    if abstract_text:  # Add the last abstract block if present\n",
    "        output_lines.append('Abstract:' + abstract_text.strip())\n",
    "\n",
    "    processed_content = '\\n'.join(output_lines)\n",
    "\n",
    "    # Write the processed content to the output file\n",
    "    with open(output_file_path, 'w', encoding='utf-8') as output_file:\n",
    "        output_file.write(processed_content)\n",
    "\n",
    "# Specify the path to your input and output files\n",
    "input_file_path = 'pretty.txt'  # Adjust this path if your file is in a different location\n",
    "output_file_path = 'output.txt'\n",
    "\n",
    "# Process the file and write the output\n",
    "process_content_from_file(input_file_path, output_file_path)\n",
    "\n",
    "print(\"Processing complete! Check output.txt for the results.\")\n"
   ]
  },
  {
   "cell_type": "markdown",
   "metadata": {},
   "source": [
    "Tests:"
   ]
  },
  {
   "cell_type": "code",
   "execution_count": 11,
   "metadata": {},
   "outputs": [
    {
     "name": "stdout",
     "output_type": "stream",
     "text": [
      "[1, 2, 4, 3]\n",
      "[1, 2, 4, 3]\n"
     ]
    }
   ],
   "source": [
    "a = [1,2]\n",
    "b = [4, 3]\n",
    "a += b\n",
    "c = a\n",
    "print(c)\n",
    "print(a)"
   ]
  },
  {
   "cell_type": "code",
   "execution_count": 63,
   "metadata": {},
   "outputs": [],
   "source": [
    "# listing all the urls that make sence  \n",
    "with open('urls2.txt', 'w', encoding='utf-8') as file:\n",
    "    for link in filtered_urls2:\n",
    "        file.write(link + '\\n')"
   ]
  },
  {
   "cell_type": "code",
   "execution_count": null,
   "metadata": {},
   "outputs": [],
   "source": []
  }
 ],
 "metadata": {
  "kernelspec": {
   "display_name": ".venv",
   "language": "python",
   "name": "python3"
  },
  "language_info": {
   "codemirror_mode": {
    "name": "ipython",
    "version": 3
   },
   "file_extension": ".py",
   "mimetype": "text/x-python",
   "name": "python",
   "nbconvert_exporter": "python",
   "pygments_lexer": "ipython3",
   "version": "3.12.2"
  }
 },
 "nbformat": 4,
 "nbformat_minor": 2
}
