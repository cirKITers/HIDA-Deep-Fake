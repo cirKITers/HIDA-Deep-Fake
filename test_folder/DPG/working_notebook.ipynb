{
 "cells": [
  {
   "cell_type": "code",
   "execution_count": null,
   "metadata": {},
   "outputs": [],
   "source": [
    "pip install requests beautifulsoup4"
   ]
  },
  {
   "cell_type": "code",
   "execution_count": 12,
   "metadata": {},
   "outputs": [],
   "source": [
    "import requests\n",
    "from bs4 import BeautifulSoup"
   ]
  },
  {
   "cell_type": "code",
   "execution_count": 9,
   "metadata": {},
   "outputs": [],
   "source": [
    "url = 'https://www.dpg-verhandlungen.de/year/2024/conference/berlin/part/dy'\n",
    "response = requests.get(url)\n",
    "soup = BeautifulSoup(response.text, 'html.parser')\n",
    "paragraphs = soup.find_all()\n",
    "with open('webpage_content.txt', 'w', encoding='utf-8') as file:\n",
    "    for paragraph in paragraphs:\n",
    "        file.write(paragraph.text + '\\n')"
   ]
  },
  {
   "cell_type": "markdown",
   "metadata": {},
   "source": [
    "scrape for the urls:"
   ]
  },
  {
   "cell_type": "code",
   "execution_count": 34,
   "metadata": {},
   "outputs": [],
   "source": [
    "main_url = 'https://www.dpg-verhandlungen.de/year/2024/conference/berlin/part/dy'\n",
    "response = requests.get(main_url)\n",
    "\n",
    "# Parse the HTML content and Find all <a> tags\n",
    "soup = BeautifulSoup(response.text, 'html.parser')\n",
    "links = soup.find_all('a')\n",
    "\n",
    "# Extract the href attribute from each <a> tag and filter only relevant ones \n",
    "nested_urls = [link.get('href') for link in links if link.get('href')]\n",
    "filtered_urls = [url for url in nested_urls if url.startswith(main_url + \"/\")]\n",
    "\n",
    "nested_nested_urls = []\n",
    "for secondary_url in filtered_urls:\n",
    "    response = requests.get(secondary_url)\n",
    "    soup = BeautifulSoup(response.text, 'html.parser')\n",
    "    links = soup.find_all('a')\n",
    "\n",
    "    temp = [link.get('href') for link in links if link.get('href')]\n",
    "    nested_nested_urls += temp\n",
    "\n"
   ]
  },
  {
   "cell_type": "code",
   "execution_count": 62,
   "metadata": {},
   "outputs": [],
   "source": [
    "# filter all the nested_nested_urls:\n",
    "filtered_urls = [url for url in nested_nested_urls if url.startswith(main_url + \"/\")]\n",
    "\n",
    "filtered_urls2 = [filtered_urls[0]]\n",
    "\n",
    "for i in range(1, len(filtered_urls)):\n",
    "    # Compare each element with the previous one\n",
    "    if filtered_urls[i] != filtered_urls[i-1]:\n",
    "        # Add it to the filtered list if it's different\n",
    "        filtered_urls2.append(filtered_urls[i])\n"
   ]
  },
  {
   "cell_type": "markdown",
   "metadata": {},
   "source": [
    "for all the content:"
   ]
  },
  {
   "cell_type": "code",
   "execution_count": 59,
   "metadata": {},
   "outputs": [],
   "source": [
    "url = 'https://www.dpg-verhandlungen.de/year/2024/conference/berlin/part/dy/session/60/contribution/4'\n",
    "response = requests.get(url)\n",
    "soup = BeautifulSoup(response.text, 'html.parser')\n",
    "paragraphs = soup.find_all('p')\n",
    "\n",
    "with open('webpage_content.txt', 'w', encoding='utf-8') as file:\n",
    "    for paragraph in paragraphs:\n",
    "        file.write(paragraph.text + '\\n')\n",
    "\n",
    "        \n"
   ]
  },
  {
   "cell_type": "markdown",
   "metadata": {},
   "source": [
    "scaling the above to all"
   ]
  },
  {
   "cell_type": "code",
   "execution_count": 68,
   "metadata": {},
   "outputs": [],
   "source": [
    "i=1\n",
    "\n",
    "with open('all_text2.txt', 'w') as file:\n",
    "    pass  # This clears the file\n",
    "\n",
    "def append_to_file(content, filename='all_text2.txt'):\n",
    "    with open(filename, 'a', encoding='utf-8') as file:\n",
    "        file.write(content + '\\n')\n",
    "\n",
    "for url in filtered_urls2:\n",
    "    response = requests.get(url)\n",
    "    soup = BeautifulSoup(response.text, 'html.parser')\n",
    "    paragraphs = soup.find_all('p')\n",
    "\n",
    "    append_to_file(\"abstract \" + str(i))  \n",
    "    for paragraph in paragraphs:\n",
    "        append_to_file(paragraph.text)\n",
    "    i+=1 "
   ]
  },
  {
   "cell_type": "code",
   "execution_count": 70,
   "metadata": {},
   "outputs": [],
   "source": [
    "# cleaning:\n",
    "\n",
    "unwanted_phrases = [\n",
    "    \"Auswahlstatus für diesen Beitrag: \",\n",
    "    \"Titel und präsentierender Autor\",\n",
    "    \"Titel und Autorenblock\",\n",
    "    \"Titel, Autorenblock und Kurzfassung\",\n",
    "    \"gemäß den Sitzungseinstellungen\"\n",
    "]\n",
    "\n",
    "def clean_file(input_filename, output_filename):\n",
    "    with open(input_filename, 'r', encoding='utf-8') as infile, \\\n",
    "         open(output_filename, 'w', encoding='utf-8') as outfile:\n",
    "        for line in infile:\n",
    "            # Check if the line contains any of the unwanted phrases\n",
    "            if not any(unwanted_phrase in line for unwanted_phrase in unwanted_phrases):\n",
    "                outfile.write(line)\n",
    "\n",
    "# Replace 'your_input_file.txt' with the path to your input file\n",
    "# and 'cleaned_file.txt' with the desired output file path\n",
    "clean_file('all_text2.txt', 'cleaned_file.txt')"
   ]
  },
  {
   "cell_type": "markdown",
   "metadata": {},
   "source": [
    "Make pretier:"
   ]
  },
  {
   "cell_type": "code",
   "execution_count": null,
   "metadata": {},
   "outputs": [],
   "source": [
    "def format_entry(entry):\n",
    "    # Split the entry by lines\n",
    "    lines = entry.split('\\n')\n",
    "    # Extract and format title, authors, and affiliation\n",
    "    title_authors_affiliation = lines[0].split('—')\n",
    "    title = title_authors_affiliation[0].strip()\n",
    "    authors_affiliation = '—'.join(title_authors_affiliation[1:]).strip()\n",
    "    authors, affiliation = authors_affiliation.rsplit('—', 1)\n",
    "    # Extract and format abstract\n",
    "    abstract = ' '.join(lines[1:]).strip()\n",
    "    return f\"Title: {title}\\nAuthors: {authors}\\nAffiliation: {affiliation}\\nAbstract: {abstract}\\n\"\n",
    "\n",
    "def process_document(document_content):\n",
    "    entries = document_content.split('abstract ')[1:]  # Splitting document into entries, ignoring the very first split part before 'abstract '\n",
    "    formatted_entries = [format_entry(entry) for entry in entries]\n",
    "    return \"\\n\".join(formatted_entries)"
   ]
  },
  {
   "cell_type": "markdown",
   "metadata": {},
   "source": [
    "Tests:"
   ]
  },
  {
   "cell_type": "code",
   "execution_count": 29,
   "metadata": {},
   "outputs": [
    {
     "name": "stdout",
     "output_type": "stream",
     "text": [
      "[1, 2, 4, 3]\n",
      "[1, 2, 4, 3]\n"
     ]
    }
   ],
   "source": [
    "a = [1,2]\n",
    "b = [4, 3]\n",
    "a += b\n",
    "print(c)\n",
    "print(a)"
   ]
  },
  {
   "cell_type": "code",
   "execution_count": 63,
   "metadata": {},
   "outputs": [],
   "source": [
    "# listing all the urls that make sence  \n",
    "with open('urls2.txt', 'w', encoding='utf-8') as file:\n",
    "    for link in filtered_urls2:\n",
    "        file.write(link + '\\n')"
   ]
  },
  {
   "cell_type": "code",
   "execution_count": null,
   "metadata": {},
   "outputs": [],
   "source": []
  }
 ],
 "metadata": {
  "kernelspec": {
   "display_name": ".venv",
   "language": "python",
   "name": "python3"
  },
  "language_info": {
   "codemirror_mode": {
    "name": "ipython",
    "version": 3
   },
   "file_extension": ".py",
   "mimetype": "text/x-python",
   "name": "python",
   "nbconvert_exporter": "python",
   "pygments_lexer": "ipython3",
   "version": "3.12.2"
  }
 },
 "nbformat": 4,
 "nbformat_minor": 2
}
